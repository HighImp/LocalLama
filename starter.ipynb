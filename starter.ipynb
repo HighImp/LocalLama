{
 "cells": [
  {
   "cell_type": "code",
   "execution_count": 4,
   "metadata": {},
   "outputs": [],
   "source": [
    "from src.datalama import DataLama\n",
    "import logging\n",
    "import time\n",
    "from pathlib import Path"
   ]
  },
  {
   "cell_type": "code",
   "execution_count": 7,
   "metadata": {},
   "outputs": [
    {
     "name": "stderr",
     "output_type": "stream",
     "text": [
      "2024-09-10 23:38:29,667 - INFO - Load pretrained SentenceTransformer: BAAI/bge-base-en-v1.5\n",
      "2024-09-10 23:38:31,257 - INFO - 2 prompts are loaded, with the keys: ['query', 'text']\n",
      "2024-09-10 23:38:31,258 - INFO - Creating new index for data in data\n",
      "Loading files: 100%|██████████| 1/1 [00:04<00:00,  4.80s/file]\n",
      "Batches: 100%|██████████| 1/1 [00:01<00:00,  1.63s/it]\n",
      "Batches: 100%|██████████| 1/1 [00:00<00:00,  1.10it/s]\n",
      "Batches: 100%|██████████| 1/1 [00:00<00:00,  1.06it/s]\n",
      "Batches: 100%|██████████| 1/1 [00:00<00:00,  1.08it/s]\n",
      "Batches: 100%|██████████| 1/1 [00:00<00:00,  1.06it/s]\n",
      "Batches: 100%|██████████| 1/1 [00:00<00:00,  1.06it/s]\n",
      "Batches: 100%|██████████| 1/1 [00:00<00:00,  1.04it/s]\n",
      "Batches: 100%|██████████| 1/1 [00:00<00:00,  1.06it/s]\n",
      "Batches: 100%|██████████| 1/1 [00:00<00:00,  1.06it/s]\n",
      "Batches: 100%|██████████| 1/1 [00:00<00:00,  1.06it/s]\n",
      "Batches: 100%|██████████| 1/1 [00:00<00:00,  1.06it/s]\n",
      "Batches: 100%|██████████| 1/1 [00:00<00:00,  1.08it/s]\n",
      "Batches: 100%|██████████| 1/1 [00:00<00:00,  1.05it/s]\n",
      "Batches: 100%|██████████| 1/1 [00:00<00:00,  1.33it/s]\n",
      "Batches: 100%|██████████| 1/1 [00:00<00:00,  1.09it/s]\n",
      "Batches: 100%|██████████| 1/1 [00:00<00:00,  1.08it/s]\n",
      "Batches: 100%|██████████| 1/1 [00:00<00:00,  1.08it/s]\n",
      "Batches: 100%|██████████| 1/1 [00:00<00:00,  1.08it/s]\n",
      "Batches: 100%|██████████| 1/1 [00:00<00:00,  1.06it/s]\n",
      "Batches: 100%|██████████| 1/1 [00:00<00:00,  1.07it/s]\n",
      "Batches: 100%|██████████| 1/1 [00:00<00:00,  1.08it/s]\n",
      "Batches: 100%|██████████| 1/1 [00:00<00:00,  1.07it/s]\n",
      "Batches: 100%|██████████| 1/1 [00:00<00:00,  1.07it/s]\n",
      "Batches: 100%|██████████| 1/1 [00:00<00:00,  1.09it/s]\n",
      "Batches: 100%|██████████| 1/1 [00:00<00:00,  1.08it/s]\n",
      "Batches: 100%|██████████| 1/1 [00:00<00:00,  1.06it/s]\n",
      "Batches: 100%|██████████| 1/1 [00:00<00:00,  1.08it/s]\n",
      "Batches: 100%|██████████| 1/1 [00:00<00:00,  2.37it/s]\n",
      "2024-09-10 23:39:03,386 - INFO - Index persisted in persistent\n",
      "2024-09-10 23:39:03,386 - INFO - Indexing/Loading completed in 32.13 seconds\n",
      "2024-09-10 23:39:03,387 - INFO - Processing query: Who own the one ring?\n",
      "Batches: 100%|██████████| 1/1 [00:00<00:00, 76.40it/s]\n",
      "2024-09-10 23:41:32,037 - INFO - HTTP Request: POST http://localhost:11434/api/chat \"HTTP/1.1 200 OK\"\n",
      "2024-09-10 23:41:32,038 - INFO - Query completed in 148.7 seconds\n",
      "2024-09-10 23:41:32,038 - INFO - Total execution time: 182.37 seconds\n"
     ]
    },
    {
     "name": "stdout",
     "output_type": "stream",
     "text": [
      "The One Ring is a powerful artifact created by the Dark Lord Sauron in J.R.R. Tolkien's Middle-earth legendarium. It was forged to control and enslave the other Rings of Power held by the leaders of Men, Elves, and Dwarves.\n",
      "\n",
      "Sauron, also known as Annatar, created the One Ring to be his instrument of power over all the other Rings of Power. He intended it to be the source of his strength and a means to conquer and enslave the other Free Peoples of Middle-earth.\n",
      "\n",
      "The One Ring was designed to be irresistible to those who came into contact with it, and its insidious influence eventually led to the corruption and downfall of many who sought to possess it.\n",
      "\n",
      "As for who owns the One Ring at any given time, that would depend on the specific story within Tolkien's legendarium. However, it is clear that the true ownership of the One Ring resides solely with Sauron, as he is its creator and intended master.\n",
      "\n",
      "In \"The Lord of the Rings,\" the central character Frodo Baggins inherits the Ring from Bilbo Baggins and embarks on a perilous journey to destroy it in the fires of Mount Doom. Throughout their quest, various characters attempt to possess or control the Ring for their own purposes, but ultimately, its fate is tied to Sauron's will.\n",
      "\n",
      "The One Ring remains an object of great power and temptation throughout Tolkien's stories, symbolizing the dangers of ambition, greed, and the corrupting influence of power.\n"
     ]
    }
   ],
   "source": [
    "# Measure the total time for loading and querying\n",
    "overall_start = time.perf_counter()\n",
    "\n",
    "persistent_dir = Path(\"persistent\")\n",
    "data_dir = Path(\"data\")\n",
    "\n",
    "# Initialize the chatbot with the necessary paths and model settings\n",
    "chat_bot = DataLama(persistent_dir=persistent_dir, path_to_data=data_dir, model_name=\"llama3.1\", request_timeout=240.0)\n",
    "\n",
    "# Perform a query and measure its time\n",
    "response = chat_bot.query(\"Who own the one ring?\")\n",
    "\n",
    "overall_duration = time.perf_counter() - overall_start\n",
    "logging.info(f\"Total execution time: {overall_duration:.2f} seconds\")\n",
    "\n",
    "print(response)"
   ]
  },
  {
   "cell_type": "code",
   "execution_count": 14,
   "metadata": {},
   "outputs": [
    {
     "name": "stderr",
     "output_type": "stream",
     "text": [
      "2024-09-10 23:53:20,179 - INFO - Processing query: Did the racer support sequencer?\n",
      "Batches: 100%|██████████| 1/1 [00:00<00:00, 61.30it/s]\n",
      "2024-09-10 23:54:18,245 - INFO - HTTP Request: POST http://localhost:11434/api/chat \"HTTP/1.1 200 OK\"\n",
      "2024-09-10 23:54:18,246 - INFO - Query completed in 58.1 seconds\n"
     ]
    },
    {
     "name": "stdout",
     "output_type": "stream",
     "text": [
      "The Basler racer GigE camera is capable of synchronizing multiple cameras to capture images in a precise chronological sequence. This can be achieved by using the synchronous free run feature, which allows cameras to start capturing images at the same time and continue to do so in synchronized intervals. This suggests that the racer does support some form of sequencer functionality, allowing for coordinated camera operation.\n"
     ]
    }
   ],
   "source": [
    "response = chat_bot.query(\"Did the racer support sequencer?\")\n",
    "print(response) "
   ]
  },
  {
   "cell_type": "code",
   "execution_count": null,
   "metadata": {},
   "outputs": [],
   "source": []
  }
 ],
 "metadata": {
  "kernelspec": {
   "display_name": ".venv",
   "language": "python",
   "name": "python3"
  },
  "language_info": {
   "codemirror_mode": {
    "name": "ipython",
    "version": 3
   },
   "file_extension": ".py",
   "mimetype": "text/x-python",
   "name": "python",
   "nbconvert_exporter": "python",
   "pygments_lexer": "ipython3",
   "version": "3.12.3"
  }
 },
 "nbformat": 4,
 "nbformat_minor": 2
}
